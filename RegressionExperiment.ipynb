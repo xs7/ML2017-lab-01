{
 "cells": [
  {
   "cell_type": "code",
   "execution_count": 7,
   "metadata": {
    "collapsed": true
   },
   "outputs": [],
   "source": [
    "import numpy as np\n",
    "import matplotlib.pyplot as plt\n",
    "from sklearn.datasets import load_svmlight_file\n",
    "from sklearn.model_selection import train_test_split"
   ]
  },
  {
   "cell_type": "code",
   "execution_count": 8,
   "metadata": {
    "collapsed": true
   },
   "outputs": [],
   "source": [
    "#Load the experiment data\n",
    "def get_data():\n",
    "    data=load_svmlight_file(\"housing_scale\")\n",
    "    return data[0],data[1]\n",
    "\n",
    "x,y=get_data();"
   ]
  },
  {
   "cell_type": "code",
   "execution_count": 9,
   "metadata": {
    "collapsed": true
   },
   "outputs": [],
   "source": [
    "#divide dataset\n",
    "x_train,x_test,y_train,y_test=train_test_split(x,y,test_size=0.3)"
   ]
  },
  {
   "cell_type": "code",
   "execution_count": 10,
   "metadata": {
    "collapsed": true
   },
   "outputs": [],
   "source": [
    "#choose loss function and derivation\n",
    "def lossFunction(x,y,w,b):\n",
    "    cost=np.sum(np.square(x*w+b-y))/(2*x.shape[0])\n",
    "    return cost\n",
    "def derivation(x,y,w,b):\n",
    "    wd=((x*w+b-y)*x)/x.shape[0]\n",
    "    bd=np.sum(x*w+b-y)/x.shape[0]\n",
    "    return wd,bd"
   ]
  },
  {
   "cell_type": "code",
   "execution_count": 11,
   "metadata": {
    "collapsed": true
   },
   "outputs": [],
   "source": [
    "def linearRegression(x_train,x_test,y_train,y_test,delta,num_iters):\n",
    "    w=np.zeros(x.shape[1])\n",
    "    b=0\n",
    "    trainCost=np.zeros(num_iters)\n",
    "    validateCost=np.zeros(num_iters)\n",
    "    for i in range(num_iters):\n",
    "        trainCost[i]=lossFunction(x_train,y_train,w,b)\n",
    "        validateCost[i]=lossFunction(x_test,y_test,w,b)\n",
    "        Gw,Gb=derivation(x_train,y_train,w,b);\n",
    "        Dw=-Gw\n",
    "        Db=-Gb\n",
    "        w=w+delta*Dw\n",
    "        b=b+delta*Db\n",
    "    return trainCost,validateCost,w,b"
   ]
  },
  {
   "cell_type": "code",
   "execution_count": 12,
   "metadata": {},
   "outputs": [
    {
     "name": "stdout",
     "output_type": "stream",
     "text": [
      "[-4.21869585 -2.89835474 -1.48593963 -2.94174748 -1.67245522  0.9595276\n",
      "  1.0282034  -2.17136735 -1.50342098 -1.3016072   0.19174516  3.73170007\n",
      " -2.71061868]\n",
      "4.39434604971\n"
     ]
    },
    {
     "data": {
      "image/png": "[encoded data removed]",
      "text/plain": [
       "<matplotlib.figure.Figure at 0x7fe61ae4d128>"
      ]
     },
     "metadata": {},
     "output_type": "display_data"
    }
   ],
   "source": [
    "num_iters=50;\n",
    "delta=0.01\n",
    "train_cost,validate_cost,w,b=linearRegression(x_train,x_test,y_train,y_test,delta,num_iters)\n",
    "print(w)\n",
    "print(b)\n",
    "plt.figure(1)\n",
    "x=np.arange(0,num_iters,1)\n",
    "plt.plot(x,train_cost,label = \"Train loss\")\n",
    "plt.plot(x,validate_cost,label = \"Validation loss\")\n",
    "plt.legend(loc='right')\n",
    "plt.show()"
   ]
  },
  {
   "cell_type": "code",
   "execution_count": null,
   "metadata": {
    "collapsed": true
   },
   "outputs": [],
   "source": []
  }
 ],
 "metadata": {
  "kernelspec": {
   "display_name": "Python 3",
   "language": "python",
   "name": "python3"
  },
  "language_info": {
   "codemirror_mode": {
    "name": "ipython",
    "version": 3
   },
   "file_extension": ".py",
   "mimetype": "text/x-python",
   "name": "python",
   "nbconvert_exporter": "python",
   "pygments_lexer": "ipython3",
   "version": "3.6.3"
  }
 },
 "nbformat": 4,
 "nbformat_minor": 2
}
