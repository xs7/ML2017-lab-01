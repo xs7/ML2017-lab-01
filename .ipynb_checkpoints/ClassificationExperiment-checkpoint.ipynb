{
 "cells": [
  {
   "cell_type": "code",
   "execution_count": 7,
   "metadata": {
    "collapsed": true
   },
   "outputs": [],
   "source": [
    "import numpy as np\n",
    "import matplotlib.pyplot as plt\n",
    "from sklearn.datasets import load_svmlight_file\n",
    "from sklearn.model_selection import train_test_split"
   ]
  },
  {
   "cell_type": "code",
   "execution_count": 8,
   "metadata": {
    "collapsed": true
   },
   "outputs": [],
   "source": [
    "#Load the experiment data\n",
    "def get_data():\n",
    "    data=load_svmlight_file(\"australian_scale\")\n",
    "    return data[0],data[1]\n",
    "\n",
    "x_data,y_data=get_data();"
   ]
  },
  {
   "cell_type": "code",
   "execution_count": 9,
   "metadata": {
    "collapsed": true
   },
   "outputs": [],
   "source": [
    "#divide dataset\n",
    "x_train,x_test,y_train,y_test=train_test_split(x_data,y_data,test_size=0.3)"
   ]
  },
  {
   "cell_type": "code",
   "execution_count": 10,
   "metadata": {
    "collapsed": true
   },
   "outputs": [],
   "source": [
    "#choose loss function and derivation\n",
    "def hingelossFunction(x,y,w,b,c):\n",
    "    cost=0\n",
    "    for i in range(x.shape[0]):\n",
    "        cost+=np.max([0,1-y[i]*(x[i]*w+b)])\n",
    "    cost=np.sum(np.square(w))+c*cost/(2*x.shape[0])\n",
    "    return cost\n",
    "                     \n",
    "def derivation(x,y,w,b,c):\n",
    "    wd=np.zeros(x.shape[1])\n",
    "    bd=0\n",
    "    for i in range(x.shape[0]):\n",
    "        if((1-y[i]*(x[i]*w+b)))>0 :\n",
    "            for k in range(x.shape[1]) :\n",
    "                wd[k]+=(-1)*y[i]*x[i,k]\n",
    "            bd+=(-1)*y[i]\n",
    "    wd=(wd*c+w)/x.shape[0]\n",
    "    bd=(bd*c)/x.shape[0]\n",
    "    return wd,bd"
   ]
  },
  {
   "cell_type": "code",
   "execution_count": null,
   "metadata": {
    "collapsed": true
   },
   "outputs": [],
   "source": [
    "def linearClassify(x_train,x_test,y_train,y_test,delta,num_iters):\n",
    "    w=np.zeros(x_data.shape[1])\n",
    "    b=0\n",
    "    c=10\n",
    "    trainCost=np.zeros(num_iters)\n",
    "    validateCost=np.zeros(num_iters)\n",
    "    for i in range(num_iters):\n",
    "        trainCost[i]=hingelossFunction(x_train,y_train,w,b,c)\n",
    "        validateCost[i]=hingelossFunction(x_test,y_test,w,b,c)\n",
    "        Gw,Gb=derivation(x_train,y_train,w,b,c);\n",
    "        Dw=-Gw\n",
    "        Db=-Gb\n",
    "        w=w+delta*Dw\n",
    "        b=b+delta*Db\n",
    "    return trainCost,validateCost,w,b"
   ]
  },
  {
   "cell_type": "code",
   "execution_count": null,
   "metadata": {},
   "outputs": [],
   "source": [
    "num_iters=50;\n",
    "delta=0.01\n",
    "train_cost,validate_cost,w,b=linearClassify(x_train,x_test,y_train,y_test,delta,num_iters)\n",
    "print(w)\n",
    "print(b)\n",
    "plt.figure(1)\n",
    "x=np.arange(0,num_iters,1)\n",
    "plt.plot(x,train_cost,label = \"Train loss\")\n",
    "plt.plot(x,validate_cost,label = \"Validation loss\")\n",
    "plt.legend(loc='right')\n",
    "plt.show()"
   ]
  },
  {
   "cell_type": "code",
   "execution_count": null,
   "metadata": {
    "collapsed": true
   },
   "outputs": [],
   "source": []
  }
 ],
 "metadata": {
  "kernelspec": {
   "display_name": "Python 3",
   "language": "python",
   "name": "python3"
  },
  "language_info": {
   "codemirror_mode": {
    "name": "ipython",
    "version": 3
   },
   "file_extension": ".py",
   "mimetype": "text/x-python",
   "name": "python",
   "nbconvert_exporter": "python",
   "pygments_lexer": "ipython3",
   "version": "3.6.3"
  }
 },
 "nbformat": 4,
 "nbformat_minor": 2
}
